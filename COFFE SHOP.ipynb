{
  "nbformat": 4,
  "nbformat_minor": 0,
  "metadata": {
    "colab": {
      "provenance": []
    },
    "kernelspec": {
      "name": "python3",
      "display_name": "Python 3"
    },
    "language_info": {
      "name": "python"
    }
  },
  "cells": [
    {
      "cell_type": "code",
      "source": [
        "# Sistema de Gerenciamento – Coffee Shops Tia Rosa\n",
        "#A ideia que tive foi desenvolver uma sistema simples e funcional.Este projeto faz parte da atividade. A proposta é criar um sistema em Python para ajudar na organização da cafeteria coffee Shops tia rosa, resolvendo problemas como controle de produtos, pedidos e clientes.\n"
      ],
      "metadata": {
        "id": "i39hPVWWmREV"
      },
      "execution_count": null,
      "outputs": []
    },
    {
      "cell_type": "code",
      "source": [
        "# aqui criei listas para guardar os dados da cafeteria\n",
        "produtos = []\n",
        "clientes = []\n",
        "pedidos = []"
      ],
      "metadata": {
        "id": "YY4gQO_snhMj"
      },
      "execution_count": null,
      "outputs": []
    },
    {
      "cell_type": "code",
      "source": [
        "#aqui criei uma função para cadastrar os produtos\n",
        "def cadastrar_produto():\n",
        "    nome = input(\"Nome do produto: \")\n",
        "    preco = float(input(\"Preço: \"))\n",
        "    produto = {\"nome\": nome, \"preco\": preco}\n",
        "    produtos.append(produto)\n",
        "    print(\"Produto cadastrado com sucesso!\")"
      ],
      "metadata": {
        "id": "xLYFXKuNnl2r"
      },
      "execution_count": 19,
      "outputs": []
    },
    {
      "cell_type": "code",
      "source": [
        "# aqui um função para mostrar todos os produtos cadastrados\n",
        "# Mostra o número do produto, o nome e o preço.\n",
        "\n",
        "def listar_produtos():\n",
        "    print(\"\\nLista de Produtos:\")\n",
        "    for i, p in enumerate(produtos):\n",
        "        print(f\"{i} - {p['nome']} | R$ {p['preco']:.2f}\")"
      ],
      "metadata": {
        "id": "FRH2V4Y3oYd0"
      },
      "execution_count": 18,
      "outputs": []
    },
    {
      "cell_type": "code",
      "source": [
        "# aqui uma função para cadastrar um cliente\n",
        "# informa o nome e telefone\n",
        "# Adiciona esse cliente na lista de clientes\n",
        "\n",
        "def cadastrar_cliente():\n",
        "    nome = input(\"Nome do cliente: \")\n",
        "    telefone = input(\"Telefone: \")\n",
        "    cliente = {\"nome\": nome, \"telefone\": telefone}\n",
        "    clientes.append(cliente)\n",
        "    print(\"Cliente cadastrado com sucesso!\")"
      ],
      "metadata": {
        "id": "GUk9e-WrolKL"
      },
      "execution_count": 17,
      "outputs": []
    },
    {
      "cell_type": "code",
      "source": [
        "# ja aqui a função que exibe a lista de clientes cadastrados\n",
        "# Mostra o número, nome e telefone de cada cliente\n",
        "\n",
        "def listar_clientes():\n",
        "    print(\"\\nLista de Clientes:\")\n",
        "    for i, c in enumerate(clientes):\n",
        "        print(f\"{i} - {c['nome']} | Tel: {c['telefone']}\")\n"
      ],
      "metadata": {
        "id": "g8PfuKN3o93E"
      },
      "execution_count": null,
      "outputs": []
    },
    {
      "cell_type": "code",
      "source": [
        "# aqui a função para registrar um novo pedido\n",
        "# O usuário escolhe o cliente e o produto pelo número\n",
        "# Também informa a quantidade e o sistema calcula o total\n",
        "\n",
        "def Fazer_Pedido():\n",
        "    listar_clientes()\n",
        "    cliente_id = int(input(\"Escolha o número do cliente: \"))\n",
        "    cliente = clientes[cliente_id]\n",
        "\n",
        "    listar_produtos()\n",
        "    produto_id = int(input(\"Escolha o número do produto: \"))\n",
        "    produto = produtos[produto_id]\n",
        "\n",
        "    quantidade = int(input(\"Quantidade: \"))\n",
        "    total = produto[\"preco\"] * quantidade\n",
        "\n",
        "    pedido = {\n",
        "        \"cliente\": cliente[\"nome\"],\n",
        "        \"produto\": produto[\"nome\"],\n",
        "        \"quantidade\": quantidade,\n",
        "        \"total\": total\n",
        "    }\n",
        "    pedidos.append(pedido)\n",
        "    print(f\"Pedido realizado! Total: R$ {total:.2f}\")\n",
        ""
      ],
      "metadata": {
        "id": "kZphYQIVpIXq"
      },
      "execution_count": 31,
      "outputs": []
    },
    {
      "cell_type": "code",
      "source": [
        "# função para exibir todos os pedidos realizados\n",
        "# Mostr nome do cliente, produto, quantidade e valor total\n",
        "\n",
        "def listar_pedidos():\n",
        "    print(\"\\nPedidos Realizados:\")\n",
        "    for p in pedidos:\n",
        "        print(f\"{p['cliente']} comprou {p['quantidade']}x {p['produto']} – Total: R$ {p['total']:.2f}\")\n"
      ],
      "metadata": {
        "id": "fZv1c5jmpios"
      },
      "execution_count": 33,
      "outputs": []
    },
    {
      "cell_type": "code",
      "source": [
        "# aqui fiz o menu principal do sistema\n",
        "# a pessoa escolhe o que quer fazer digitando um número\n",
        "\n",
        "def fazer_pedido():\n",
        "    listar_clientes()\n",
        "    cliente_id = int(input(\"Escolha o número do cliente: \"))\n",
        "    cliente = clientes[cliente_id]\n",
        "\n",
        "    listar_produtos()\n",
        "    produto_id = int(input(\"Escolha o número do produto: \"))\n",
        "    produto = produtos[produto_id]\n",
        "\n",
        "    quantidade = int(input(\"Quantidade: \"))\n",
        "    total = produto[\"preco\"] * quantidade\n",
        "\n",
        "    pedido = {\n",
        "        \"cliente\": cliente[\"nome\"],\n",
        "        \"produto\": produto[\"nome\"],\n",
        "        \"quantidade\": quantidade,\n",
        "        \"total\": total\n",
        "    }\n",
        "    pedidos.append(pedido)\n",
        "    print(f\"Pedido realizado! Total: R$ {total:.2f}\")"
      ],
      "metadata": {
        "id": "CYytBKKPrY5b"
      },
      "execution_count": 32,
      "outputs": []
    },
    {
      "cell_type": "code",
      "source": [
        "# aqui eu chamo o menu para iniciar o sistema\n",
        "# O sistema roda até a pessoa escolher sair (0)\n",
        "\n",
        "menu()"
      ],
      "metadata": {
        "id": "Knb6WX2ar7Ri"
      },
      "execution_count": null,
      "outputs": []
    }
  ]
}